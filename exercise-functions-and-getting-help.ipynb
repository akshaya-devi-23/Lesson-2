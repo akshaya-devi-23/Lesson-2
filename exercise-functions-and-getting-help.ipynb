{
 "cells": [
  {
   "cell_type": "markdown",
   "id": "2db92582",
   "metadata": {
    "papermill": {
     "duration": 0.007017,
     "end_time": "2023-02-05T10:27:41.319093",
     "exception": false,
     "start_time": "2023-02-05T10:27:41.312076",
     "status": "completed"
    },
    "tags": []
   },
   "source": [
    "**This notebook is an exercise in the [Python](https://www.kaggle.com/learn/python) course.  You can reference the tutorial at [this link](https://www.kaggle.com/colinmorris/functions-and-getting-help).**\n",
    "\n",
    "---\n"
   ]
  },
  {
   "cell_type": "markdown",
   "id": "6d8144ba",
   "metadata": {
    "papermill": {
     "duration": 0.005064,
     "end_time": "2023-02-05T10:27:41.329499",
     "exception": false,
     "start_time": "2023-02-05T10:27:41.324435",
     "status": "completed"
    },
    "tags": []
   },
   "source": [
    "Functions are powerful. Try writing some yourself.\n",
    "\n",
    "As before, don't forget to run the setup code below before jumping into question 1."
   ]
  },
  {
   "cell_type": "code",
   "execution_count": 1,
   "id": "919d06b4",
   "metadata": {
    "_kg_hide-input": true,
    "_kg_hide-output": true,
    "execution": {
     "iopub.execute_input": "2023-02-05T10:27:41.341485Z",
     "iopub.status.busy": "2023-02-05T10:27:41.340966Z",
     "iopub.status.idle": "2023-02-05T10:27:41.404714Z",
     "shell.execute_reply": "2023-02-05T10:27:41.403325Z"
    },
    "papermill": {
     "duration": 0.074035,
     "end_time": "2023-02-05T10:27:41.408544",
     "exception": false,
     "start_time": "2023-02-05T10:27:41.334509",
     "status": "completed"
    },
    "tags": []
   },
   "outputs": [
    {
     "name": "stdout",
     "output_type": "stream",
     "text": [
      "Setup complete.\n"
     ]
    }
   ],
   "source": [
    "# SETUP. You don't need to worry for now about what this code does or how it works.\n",
    "from learntools.core import binder; binder.bind(globals())\n",
    "from learntools.python.ex2 import *\n",
    "print('Setup complete.')"
   ]
  },
  {
   "cell_type": "markdown",
   "id": "70d0a67b",
   "metadata": {
    "papermill": {
     "duration": 0.004602,
     "end_time": "2023-02-05T10:27:41.418336",
     "exception": false,
     "start_time": "2023-02-05T10:27:41.413734",
     "status": "completed"
    },
    "tags": []
   },
   "source": [
    "# 1.\n",
    "\n",
    "Complete the body of the following function according to its docstring.\n",
    "\n",
    "HINT: Python has a built-in function `round`."
   ]
  },
  {
   "cell_type": "code",
   "execution_count": 2,
   "id": "9e4858c1",
   "metadata": {
    "execution": {
     "iopub.execute_input": "2023-02-05T10:27:41.430653Z",
     "iopub.status.busy": "2023-02-05T10:27:41.429427Z",
     "iopub.status.idle": "2023-02-05T10:27:41.443142Z",
     "shell.execute_reply": "2023-02-05T10:27:41.441959Z"
    },
    "papermill": {
     "duration": 0.022413,
     "end_time": "2023-02-05T10:27:41.445649",
     "exception": false,
     "start_time": "2023-02-05T10:27:41.423236",
     "status": "completed"
    },
    "tags": []
   },
   "outputs": [
    {
     "data": {
      "application/javascript": [
       "parent.postMessage({\"jupyterEvent\": \"custom.exercise_interaction\", \"data\": {\"outcomeType\": 1, \"valueTowardsCompletion\": 0.16666666666666666, \"interactionType\": 1, \"questionType\": 2, \"questionId\": \"1_RoundFunctionProblem\", \"learnToolsVersion\": \"0.3.4\", \"failureMessage\": \"\", \"exceptionClass\": \"\", \"trace\": \"\"}}, \"*\")"
      ],
      "text/plain": [
       "<IPython.core.display.Javascript object>"
      ]
     },
     "metadata": {},
     "output_type": "display_data"
    },
    {
     "data": {
      "text/markdown": [
       "<span style=\"color:#33cc33\">Correct</span>"
      ],
      "text/plain": [
       "Correct"
      ]
     },
     "metadata": {},
     "output_type": "display_data"
    }
   ],
   "source": [
    "def round_to_two_places(num):\n",
    "    \"\"\"Return the given number rounded to two decimal places. \n",
    "    \n",
    "    >>> round_to_two_places(3.14159)\n",
    "    3.14\n",
    "    \"\"\"\n",
    "    \n",
    "    # Replace this body with your own code.\n",
    "    # (\"pass\" is a keyword that does literally nothing. We used it as a placeholder\n",
    "    # because after we begin a code block, Python requires at least one line of code)\n",
    "    \n",
    "    return round (num,2)\n",
    "    pass\n",
    "\n",
    "# Check your answer\n",
    "q1.check()"
   ]
  },
  {
   "cell_type": "code",
   "execution_count": 3,
   "id": "55cf5fa9",
   "metadata": {
    "execution": {
     "iopub.execute_input": "2023-02-05T10:27:41.458322Z",
     "iopub.status.busy": "2023-02-05T10:27:41.457875Z",
     "iopub.status.idle": "2023-02-05T10:27:41.472729Z",
     "shell.execute_reply": "2023-02-05T10:27:41.471419Z"
    },
    "papermill": {
     "duration": 0.023928,
     "end_time": "2023-02-05T10:27:41.475161",
     "exception": false,
     "start_time": "2023-02-05T10:27:41.451233",
     "status": "completed"
    },
    "tags": []
   },
   "outputs": [
    {
     "data": {
      "application/javascript": [
       "parent.postMessage({\"jupyterEvent\": \"custom.exercise_interaction\", \"data\": {\"interactionType\": 2, \"questionType\": 2, \"questionId\": \"1_RoundFunctionProblem\", \"learnToolsVersion\": \"0.3.4\", \"valueTowardsCompletion\": 0.0, \"failureMessage\": \"\", \"exceptionClass\": \"\", \"trace\": \"\", \"outcomeType\": 4}}, \"*\")"
      ],
      "text/plain": [
       "<IPython.core.display.Javascript object>"
      ]
     },
     "metadata": {},
     "output_type": "display_data"
    },
    {
     "data": {
      "text/markdown": [
       "<span style=\"color:#3366cc\">Hint:</span> Run `help(round)` in the console (or in a code cell) to learn more about the round function. You'll need to use the function's optional second argument."
      ],
      "text/plain": [
       "Hint: Run `help(round)` in the console (or in a code cell) to learn more about the round function. You'll need to use the function's optional second argument."
      ]
     },
     "metadata": {},
     "output_type": "display_data"
    },
    {
     "data": {
      "application/javascript": [
       "parent.postMessage({\"jupyterEvent\": \"custom.exercise_interaction\", \"data\": {\"interactionType\": 3, \"questionType\": 2, \"questionId\": \"1_RoundFunctionProblem\", \"learnToolsVersion\": \"0.3.4\", \"valueTowardsCompletion\": 0.0, \"failureMessage\": \"\", \"exceptionClass\": \"\", \"trace\": \"\", \"outcomeType\": 4}}, \"*\")"
      ],
      "text/plain": [
       "<IPython.core.display.Javascript object>"
      ]
     },
     "metadata": {},
     "output_type": "display_data"
    },
    {
     "data": {
      "text/markdown": [
       "<span style=\"color:#33cc99\">Solution:</span> \n",
       "```python\n",
       "return round(num, 2)\n",
       "```"
      ],
      "text/plain": [
       "Solution: \n",
       "```python\n",
       "return round(num, 2)\n",
       "```"
      ]
     },
     "metadata": {},
     "output_type": "display_data"
    }
   ],
   "source": [
    "# Uncomment the following for a hint\n",
    "q1.hint()\n",
    "# Or uncomment the following to peek at the solution\n",
    "q1.solution()"
   ]
  },
  {
   "cell_type": "markdown",
   "id": "d04bc039",
   "metadata": {
    "papermill": {
     "duration": 0.005354,
     "end_time": "2023-02-05T10:27:41.486263",
     "exception": false,
     "start_time": "2023-02-05T10:27:41.480909",
     "status": "completed"
    },
    "tags": []
   },
   "source": [
    "# 2.\n",
    "The help for `round` says that `ndigits` (the second argument) may be negative.\n",
    "What do you think will happen when it is? Try some examples in the following cell."
   ]
  },
  {
   "cell_type": "code",
   "execution_count": 4,
   "id": "6677180c",
   "metadata": {
    "execution": {
     "iopub.execute_input": "2023-02-05T10:27:41.499195Z",
     "iopub.status.busy": "2023-02-05T10:27:41.498819Z",
     "iopub.status.idle": "2023-02-05T10:27:41.504657Z",
     "shell.execute_reply": "2023-02-05T10:27:41.503314Z"
    },
    "papermill": {
     "duration": 0.015445,
     "end_time": "2023-02-05T10:27:41.507358",
     "exception": false,
     "start_time": "2023-02-05T10:27:41.491913",
     "status": "completed"
    },
    "tags": []
   },
   "outputs": [
    {
     "name": "stdout",
     "output_type": "stream",
     "text": [
      "120\n"
     ]
    }
   ],
   "source": [
    "# Put your test code here\n",
    "rounded = round (123, -1)\n",
    "print (rounded)"
   ]
  },
  {
   "cell_type": "markdown",
   "id": "dc23bcb8",
   "metadata": {
    "papermill": {
     "duration": 0.005466,
     "end_time": "2023-02-05T10:27:41.519527",
     "exception": false,
     "start_time": "2023-02-05T10:27:41.514061",
     "status": "completed"
    },
    "tags": []
   },
   "source": [
    "Can you think of a case where this would be useful?  Once you're ready, run the code cell below to see the answer and to receive credit for completing the problem."
   ]
  },
  {
   "cell_type": "code",
   "execution_count": 5,
   "id": "43861078",
   "metadata": {
    "execution": {
     "iopub.execute_input": "2023-02-05T10:27:41.533148Z",
     "iopub.status.busy": "2023-02-05T10:27:41.532730Z",
     "iopub.status.idle": "2023-02-05T10:27:41.542070Z",
     "shell.execute_reply": "2023-02-05T10:27:41.540837Z"
    },
    "papermill": {
     "duration": 0.018947,
     "end_time": "2023-02-05T10:27:41.544676",
     "exception": false,
     "start_time": "2023-02-05T10:27:41.525729",
     "status": "completed"
    },
    "tags": []
   },
   "outputs": [
    {
     "data": {
      "application/javascript": [
       "parent.postMessage({\"jupyterEvent\": \"custom.exercise_interaction\", \"data\": {\"interactionType\": 3, \"questionType\": 4, \"questionId\": \"2_RoundNdigitsProblem\", \"learnToolsVersion\": \"0.3.4\", \"valueTowardsCompletion\": 0.0, \"failureMessage\": \"\", \"exceptionClass\": \"\", \"trace\": \"\", \"outcomeType\": 4}}, \"*\")"
      ],
      "text/plain": [
       "<IPython.core.display.Javascript object>"
      ]
     },
     "metadata": {},
     "output_type": "display_data"
    },
    {
     "data": {
      "text/markdown": [
       "<span style=\"color:#33cc99\">Solution:</span> As you've seen, `ndigits=-1` rounds to the nearest 10, `ndigits=-2` rounds to the nearest 100 and so on. Where might this be useful? Suppose we're dealing with large numbers:\n",
       "\n",
       "> The area of Finland is 338,424 km²  \n",
       "> The area of Greenland is 2,166,086 km²\n",
       "\n",
       "We probably don't care whether it's really 338,424, or 338,425, or 338,177. All those digits of accuracy are just distracting. We can chop them off by calling `round()` with `ndigits=-3`:\n",
       "\n",
       "> The area of Finland is 338,000 km²  \n",
       "> The area of Greenland is 2,166,000 km²\n",
       "\n",
       "(We'll talk about how we would get the commas later when we talk about string formatting :))\n"
      ],
      "text/plain": [
       "Solution: As you've seen, `ndigits=-1` rounds to the nearest 10, `ndigits=-2` rounds to the nearest 100 and so on. Where might this be useful? Suppose we're dealing with large numbers:\n",
       "\n",
       "> The area of Finland is 338,424 km²  \n",
       "> The area of Greenland is 2,166,086 km²\n",
       "\n",
       "We probably don't care whether it's really 338,424, or 338,425, or 338,177. All those digits of accuracy are just distracting. We can chop them off by calling `round()` with `ndigits=-3`:\n",
       "\n",
       "> The area of Finland is 338,000 km²  \n",
       "> The area of Greenland is 2,166,000 km²\n",
       "\n",
       "(We'll talk about how we would get the commas later when we talk about string formatting :))"
      ]
     },
     "metadata": {},
     "output_type": "display_data"
    }
   ],
   "source": [
    "# Check your answer (Run this code cell to receive credit!)\n",
    "q2.solution()"
   ]
  },
  {
   "cell_type": "markdown",
   "id": "e5820058",
   "metadata": {
    "papermill": {
     "duration": 0.005765,
     "end_time": "2023-02-05T10:27:41.556699",
     "exception": false,
     "start_time": "2023-02-05T10:27:41.550934",
     "status": "completed"
    },
    "tags": []
   },
   "source": [
    "# 3.\n",
    "\n",
    "In the previous exercise, the candy-sharing friends Alice, Bob and Carol tried to split candies evenly. For the sake of their friendship, any candies left over would be smashed. For example, if they collectively bring home 91 candies, they'll take 30 each and smash 1.\n",
    "\n",
    "Below is a simple function that will calculate the number of candies to smash for *any* number of total candies.\n",
    "\n",
    "Modify it so that it optionally takes a second argument representing the number of friends the candies are being split between. If no second argument is provided, it should assume 3 friends, as before.\n",
    "\n",
    "Update the docstring to reflect this new behaviour."
   ]
  },
  {
   "cell_type": "code",
   "execution_count": 6,
   "id": "2679a520",
   "metadata": {
    "execution": {
     "iopub.execute_input": "2023-02-05T10:27:41.570181Z",
     "iopub.status.busy": "2023-02-05T10:27:41.569749Z",
     "iopub.status.idle": "2023-02-05T10:27:41.580075Z",
     "shell.execute_reply": "2023-02-05T10:27:41.578948Z"
    },
    "papermill": {
     "duration": 0.019775,
     "end_time": "2023-02-05T10:27:41.582363",
     "exception": false,
     "start_time": "2023-02-05T10:27:41.562588",
     "status": "completed"
    },
    "tags": []
   },
   "outputs": [
    {
     "data": {
      "application/javascript": [
       "parent.postMessage({\"jupyterEvent\": \"custom.exercise_interaction\", \"data\": {\"outcomeType\": 1, \"valueTowardsCompletion\": 0.16666666666666666, \"interactionType\": 1, \"questionType\": 2, \"questionId\": \"3_CandySmashingFunctionProblem\", \"learnToolsVersion\": \"0.3.4\", \"failureMessage\": \"\", \"exceptionClass\": \"\", \"trace\": \"\"}}, \"*\")"
      ],
      "text/plain": [
       "<IPython.core.display.Javascript object>"
      ]
     },
     "metadata": {},
     "output_type": "display_data"
    },
    {
     "data": {
      "text/markdown": [
       "<span style=\"color:#33cc33\">Correct</span>"
      ],
      "text/plain": [
       "Correct"
      ]
     },
     "metadata": {},
     "output_type": "display_data"
    }
   ],
   "source": [
    "def to_smash(total_candies, no_of_friends=3):\n",
    "    \"\"\"Return the number of leftover candies that must be smashed after distributing\n",
    "    the given number of candies evenly between 3 friends.\n",
    "    \n",
    "    >>> to_smash(91)\n",
    "    1\n",
    "    \"\"\"\n",
    "    return total_candies % no_of_friends\n",
    "\n",
    "# Check your answer\n",
    "q3.check()"
   ]
  },
  {
   "cell_type": "code",
   "execution_count": 7,
   "id": "970659c2",
   "metadata": {
    "execution": {
     "iopub.execute_input": "2023-02-05T10:27:41.596469Z",
     "iopub.status.busy": "2023-02-05T10:27:41.596103Z",
     "iopub.status.idle": "2023-02-05T10:27:41.604615Z",
     "shell.execute_reply": "2023-02-05T10:27:41.603537Z"
    },
    "papermill": {
     "duration": 0.018498,
     "end_time": "2023-02-05T10:27:41.607018",
     "exception": false,
     "start_time": "2023-02-05T10:27:41.588520",
     "status": "completed"
    },
    "tags": []
   },
   "outputs": [
    {
     "data": {
      "application/javascript": [
       "parent.postMessage({\"jupyterEvent\": \"custom.exercise_interaction\", \"data\": {\"interactionType\": 2, \"questionType\": 2, \"questionId\": \"3_CandySmashingFunctionProblem\", \"learnToolsVersion\": \"0.3.4\", \"valueTowardsCompletion\": 0.0, \"failureMessage\": \"\", \"exceptionClass\": \"\", \"trace\": \"\", \"outcomeType\": 4}}, \"*\")"
      ],
      "text/plain": [
       "<IPython.core.display.Javascript object>"
      ]
     },
     "metadata": {},
     "output_type": "display_data"
    },
    {
     "data": {
      "text/markdown": [
       "<span style=\"color:#3366cc\">Hint:</span> Refer to the section of the last tutorial notebook where we talked about default arguments"
      ],
      "text/plain": [
       "Hint: Refer to the section of the last tutorial notebook where we talked about default arguments"
      ]
     },
     "metadata": {},
     "output_type": "display_data"
    }
   ],
   "source": [
    "q3.hint()"
   ]
  },
  {
   "cell_type": "code",
   "execution_count": 8,
   "id": "94a8c5dc",
   "metadata": {
    "execution": {
     "iopub.execute_input": "2023-02-05T10:27:41.621515Z",
     "iopub.status.busy": "2023-02-05T10:27:41.621058Z",
     "iopub.status.idle": "2023-02-05T10:27:41.630493Z",
     "shell.execute_reply": "2023-02-05T10:27:41.629421Z"
    },
    "papermill": {
     "duration": 0.019527,
     "end_time": "2023-02-05T10:27:41.632957",
     "exception": false,
     "start_time": "2023-02-05T10:27:41.613430",
     "status": "completed"
    },
    "tags": []
   },
   "outputs": [
    {
     "data": {
      "application/javascript": [
       "parent.postMessage({\"jupyterEvent\": \"custom.exercise_interaction\", \"data\": {\"interactionType\": 3, \"questionType\": 2, \"questionId\": \"3_CandySmashingFunctionProblem\", \"learnToolsVersion\": \"0.3.4\", \"valueTowardsCompletion\": 0.0, \"failureMessage\": \"\", \"exceptionClass\": \"\", \"trace\": \"\", \"outcomeType\": 4}}, \"*\")"
      ],
      "text/plain": [
       "<IPython.core.display.Javascript object>"
      ]
     },
     "metadata": {},
     "output_type": "display_data"
    },
    {
     "data": {
      "text/markdown": [
       "<span style=\"color:#33cc99\">Solution:</span> \n",
       "```python\n",
       "def to_smash(total_candies, n_friends=3):\n",
       "    return total_candies % n_friends\n",
       "```"
      ],
      "text/plain": [
       "Solution: \n",
       "```python\n",
       "def to_smash(total_candies, n_friends=3):\n",
       "    return total_candies % n_friends\n",
       "```"
      ]
     },
     "metadata": {},
     "output_type": "display_data"
    }
   ],
   "source": [
    "q3.solution()"
   ]
  },
  {
   "cell_type": "markdown",
   "id": "65c479db",
   "metadata": {
    "papermill": {
     "duration": 0.007164,
     "end_time": "2023-02-05T10:27:41.646811",
     "exception": false,
     "start_time": "2023-02-05T10:27:41.639647",
     "status": "completed"
    },
    "tags": []
   },
   "source": [
    "# 4. (Optional)\n",
    "\n",
    "It may not be fun, but reading and understanding error messages will be an important part of your Python career.\n",
    "\n",
    "Each code cell below contains some commented buggy code. For each cell...\n",
    "\n",
    "1. Read the code and predict what you think will happen when it's run.\n",
    "2. Then uncomment the code and run it to see what happens. (**Tip**: In the kernel editor, you can highlight several lines and press `ctrl`+`/` to toggle commenting.)\n",
    "3. Fix the code (so that it accomplishes its intended purpose without throwing an exception)\n",
    "\n",
    "<!-- TODO: should this be autochecked? Delta is probably pretty small. -->"
   ]
  },
  {
   "cell_type": "code",
   "execution_count": 9,
   "id": "ceda08e8",
   "metadata": {
    "execution": {
     "iopub.execute_input": "2023-02-05T10:27:41.662598Z",
     "iopub.status.busy": "2023-02-05T10:27:41.662218Z",
     "iopub.status.idle": "2023-02-05T10:27:41.669245Z",
     "shell.execute_reply": "2023-02-05T10:27:41.668163Z"
    },
    "papermill": {
     "duration": 0.018142,
     "end_time": "2023-02-05T10:27:41.671636",
     "exception": false,
     "start_time": "2023-02-05T10:27:41.653494",
     "status": "completed"
    },
    "tags": []
   },
   "outputs": [
    {
     "data": {
      "text/plain": [
       "10.0"
      ]
     },
     "execution_count": 9,
     "metadata": {},
     "output_type": "execute_result"
    }
   ],
   "source": [
    "round(9.9999,2)"
   ]
  },
  {
   "cell_type": "code",
   "execution_count": 10,
   "id": "10874ddb",
   "metadata": {
    "execution": {
     "iopub.execute_input": "2023-02-05T10:27:41.687075Z",
     "iopub.status.busy": "2023-02-05T10:27:41.686382Z",
     "iopub.status.idle": "2023-02-05T10:27:41.693066Z",
     "shell.execute_reply": "2023-02-05T10:27:41.691802Z"
    },
    "papermill": {
     "duration": 0.017192,
     "end_time": "2023-02-05T10:27:41.695585",
     "exception": false,
     "start_time": "2023-02-05T10:27:41.678393",
     "status": "completed"
    },
    "tags": []
   },
   "outputs": [
    {
     "name": "stdout",
     "output_type": "stream",
     "text": [
      "5\n"
     ]
    }
   ],
   "source": [
    " x = -10\n",
    " y = 5\n",
    "# # Which of the two variables above has the smallest absolute value?\n",
    "smallest_abs = min(abs(x),abs(y))\n",
    "                   \n",
    "print(smallest_abs)\n"
   ]
  },
  {
   "cell_type": "code",
   "execution_count": 11,
   "id": "80e4f371",
   "metadata": {
    "execution": {
     "iopub.execute_input": "2023-02-05T10:27:41.711311Z",
     "iopub.status.busy": "2023-02-05T10:27:41.710929Z",
     "iopub.status.idle": "2023-02-05T10:27:41.717068Z",
     "shell.execute_reply": "2023-02-05T10:27:41.715848Z"
    },
    "papermill": {
     "duration": 0.017686,
     "end_time": "2023-02-05T10:27:41.720094",
     "exception": false,
     "start_time": "2023-02-05T10:27:41.702408",
     "status": "completed"
    },
    "tags": []
   },
   "outputs": [
    {
     "name": "stdout",
     "output_type": "stream",
     "text": [
      "5\n"
     ]
    }
   ],
   "source": [
    "def f(x):\n",
    "    y = abs(x)\n",
    "    return y\n",
    "\n",
    "print(f(5))"
   ]
  },
  {
   "cell_type": "markdown",
   "id": "a994a5da",
   "metadata": {
    "papermill": {
     "duration": 0.006576,
     "end_time": "2023-02-05T10:27:41.734945",
     "exception": false,
     "start_time": "2023-02-05T10:27:41.728369",
     "status": "completed"
    },
    "tags": []
   },
   "source": [
    "# Keep Going\n",
    "\n",
    "Nice job with the code. Next up, you'll learn about *conditionals*, which you'll need to **[write interesting programs](https://www.kaggle.com/colinmorris/booleans-and-conditionals)**. "
   ]
  },
  {
   "cell_type": "markdown",
   "id": "edc75a3a",
   "metadata": {
    "papermill": {
     "duration": 0.006471,
     "end_time": "2023-02-05T10:27:41.748255",
     "exception": false,
     "start_time": "2023-02-05T10:27:41.741784",
     "status": "completed"
    },
    "tags": []
   },
   "source": [
    "---\n",
    "\n",
    "\n",
    "\n",
    "\n",
    "*Have questions or comments? Visit the [course discussion forum](https://www.kaggle.com/learn/python/discussion) to chat with other learners.*"
   ]
  }
 ],
 "metadata": {
  "kernelspec": {
   "display_name": "Python 3",
   "language": "python",
   "name": "python3"
  },
  "language_info": {
   "codemirror_mode": {
    "name": "ipython",
    "version": 3
   },
   "file_extension": ".py",
   "mimetype": "text/x-python",
   "name": "python",
   "nbconvert_exporter": "python",
   "pygments_lexer": "ipython3",
   "version": "3.7.12"
  },
  "papermill": {
   "default_parameters": {},
   "duration": 10.448679,
   "end_time": "2023-02-05T10:27:42.376521",
   "environment_variables": {},
   "exception": null,
   "input_path": "__notebook__.ipynb",
   "output_path": "__notebook__.ipynb",
   "parameters": {},
   "start_time": "2023-02-05T10:27:31.927842",
   "version": "2.3.4"
  }
 },
 "nbformat": 4,
 "nbformat_minor": 5
}
